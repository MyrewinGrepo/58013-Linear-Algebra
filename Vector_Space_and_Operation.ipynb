{
  "nbformat": 4,
  "nbformat_minor": 0,
  "metadata": {
    "colab": {
      "provenance": [],
      "authorship_tag": "ABX9TyNwm2xkszbIUikELtS0RXAA",
      "include_colab_link": true
    },
    "kernelspec": {
      "name": "python3",
      "display_name": "Python 3"
    },
    "language_info": {
      "name": "python"
    }
  },
  "cells": [
    {
      "cell_type": "markdown",
      "metadata": {
        "id": "view-in-github",
        "colab_type": "text"
      },
      "source": [
        "<a href=\"https://colab.research.google.com/github/MyrewinGrepo/58013-Linear-Algebra/blob/main/Vector_Space_and_Operation.ipynb\" target=\"_parent\"><img src=\"https://colab.research.google.com/assets/colab-badge.svg\" alt=\"Open In Colab\"/></a>"
      ]
    },
    {
      "cell_type": "code",
      "execution_count": null,
      "metadata": {
        "colab": {
          "base_uri": "https://localhost:8080/"
        },
        "id": "gTLkcGEVg4BA",
        "outputId": "c33ad907-5c9a-48ac-c29c-fb4c737c4c04"
      },
      "outputs": [
        {
          "output_type": "stream",
          "name": "stdout",
          "text": [
            "Vector A is  [4 3]\n",
            "Vector B is  [ 2 -5]\n"
          ]
        }
      ],
      "source": [
        "import numpy as np\n",
        "\n",
        "A = np.array([4,3])\n",
        "B = np.array([2,-5])\n",
        "\n",
        "print('Vector A is ',A)\n",
        "print('Vector B is ',B)"
      ]
    },
    {
      "cell_type": "markdown",
      "source": [
        "#Shape of Py"
      ],
      "metadata": {
        "id": "Ril0OROhi_ss"
      }
    },
    {
      "cell_type": "code",
      "source": [
        "import numpy as np\n",
        "###Checking shapes\n",
        "### Shapes tells us how many rows and columns are there\n",
        "ball1 =np.array([1,2,3])\n",
        "ball2 =np.array([0,1,-1])\n",
        "print(ball1)\n",
        "print(ball2)\n",
        "ball = np.shape(ball1)\n",
        "balls = np.shape(ball2)\n",
        "z = ball+balls\n",
        "print(z)\n"
      ],
      "metadata": {
        "colab": {
          "base_uri": "https://localhost:8080/"
        },
        "id": "iSliWAevhllF",
        "outputId": "e76f568f-d64a-4ac4-b403-482f013c553a"
      },
      "execution_count": null,
      "outputs": [
        {
          "output_type": "stream",
          "name": "stdout",
          "text": [
            "[1 2 3]\n",
            "[ 0  1 -1]\n",
            "(3, 3)\n"
          ]
        }
      ]
    },
    {
      "cell_type": "markdown",
      "source": [
        "#Addition"
      ],
      "metadata": {
        "id": "IGtDCA0RsF5x"
      }
    },
    {
      "cell_type": "code",
      "source": [
        "import numpy as np\n",
        "A=np.array([4,3,])\n",
        "B=np.array([2,-5,])\n",
        "R=np.add(A,B)\n",
        "print(R)"
      ],
      "metadata": {
        "colab": {
          "base_uri": "https://localhost:8080/"
        },
        "id": "UrxyrbTGsJXX",
        "outputId": "567853e0-60d0-4055-b805-19de5c1e81ee"
      },
      "execution_count": null,
      "outputs": [
        {
          "output_type": "stream",
          "name": "stdout",
          "text": [
            "[ 6 -2]\n"
          ]
        }
      ]
    },
    {
      "cell_type": "code",
      "source": [
        "R1=np.subtract(A,B)\n",
        "print(R1)\n",
        "R2=np.subtract(B,A)\n",
        "print(R2)"
      ],
      "metadata": {
        "colab": {
          "base_uri": "https://localhost:8080/"
        },
        "id": "jy6kMgNJty--",
        "outputId": "a65dd0c1-bfce-4353-b58c-c00b23b5bf18"
      },
      "execution_count": null,
      "outputs": [
        {
          "output_type": "stream",
          "name": "stdout",
          "text": [
            "[2 8]\n",
            "[-2 -8]\n"
          ]
        }
      ]
    },
    {
      "cell_type": "code",
      "source": [
        "S=np.array([2])\n",
        "V=S*A\n",
        "print(V)"
      ],
      "metadata": {
        "colab": {
          "base_uri": "https://localhost:8080/"
        },
        "id": "dH8qY7MguDX9",
        "outputId": "f112099a-fb90-43bd-eba0-e714a54e11f4"
      },
      "execution_count": 60,
      "outputs": [
        {
          "output_type": "stream",
          "name": "stdout",
          "text": [
            "[8 6]\n"
          ]
        }
      ]
    },
    {
      "cell_type": "code",
      "source": [
        "A=np.array([4,3])\n",
        "B=np.array([[2],[-5]])\n",
        "Z=A*B\n",
        "print(Z)\n",
        "t=np.transpose(Z)\n",
        "print(t)"
      ],
      "metadata": {
        "id": "hHUt3ZYauhrk",
        "colab": {
          "base_uri": "https://localhost:8080/"
        },
        "outputId": "f0f0f5bb-eb00-404a-e71e-a1d15d0948a7"
      },
      "execution_count": 82,
      "outputs": [
        {
          "output_type": "stream",
          "name": "stdout",
          "text": [
            "[[  8   6]\n",
            " [-20 -15]]\n",
            "[[  8 -20]\n",
            " [  6 -15]]\n"
          ]
        }
      ]
    },
    {
      "cell_type": "code",
      "source": [
        "c=np.eye(3,3)\n",
        "print(c)\n",
        "\n",
        "d= np.zeros([5,5])\n",
        "print(d)\n",
        "e=np.full((3,3),7)\n",
        "print(e)\n"
      ],
      "metadata": {
        "colab": {
          "base_uri": "https://localhost:8080/"
        },
        "id": "IyyVnmUbzJog",
        "outputId": "f00c4df1-741a-4cea-96fa-3eca73dd5e4a"
      },
      "execution_count": 83,
      "outputs": [
        {
          "output_type": "stream",
          "name": "stdout",
          "text": [
            "[[1. 0. 0.]\n",
            " [0. 1. 0.]\n",
            " [0. 0. 1.]]\n",
            "[[0. 0. 0. 0. 0.]\n",
            " [0. 0. 0. 0. 0.]\n",
            " [0. 0. 0. 0. 0.]\n",
            " [0. 0. 0. 0. 0.]\n",
            " [0. 0. 0. 0. 0.]]\n",
            "[[7 7 7]\n",
            " [7 7 7]\n",
            " [7 7 7]]\n"
          ]
        }
      ]
    }
  ]
}