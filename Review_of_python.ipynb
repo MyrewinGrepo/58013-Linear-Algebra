{
  "nbformat": 4,
  "nbformat_minor": 0,
  "metadata": {
    "colab": {
      "provenance": [],
      "authorship_tag": "ABX9TyPsctAFa3GJYJsJyC7gA4+j",
      "include_colab_link": true
    },
    "kernelspec": {
      "name": "python3",
      "display_name": "Python 3"
    },
    "language_info": {
      "name": "python"
    }
  },
  "cells": [
    {
      "cell_type": "markdown",
      "metadata": {
        "id": "view-in-github",
        "colab_type": "text"
      },
      "source": [
        "<a href=\"https://colab.research.google.com/github/MyrewinGrepo/58013-Linear-Algebra/blob/main/Review_of_python.ipynb\" target=\"_parent\"><img src=\"https://colab.research.google.com/assets/colab-badge.svg\" alt=\"Open In Colab\"/></a>"
      ]
    },
    {
      "cell_type": "markdown",
      "source": [
        "#Python Indentation"
      ],
      "metadata": {
        "id": "kqdX5CZ4hrlQ"
      }
    },
    {
      "cell_type": "code",
      "execution_count": 3,
      "metadata": {
        "colab": {
          "base_uri": "https://localhost:8080/"
        },
        "id": "FFIca3Yhe0Xd",
        "outputId": "36d0a857-76c7-4956-9389-890e629f128b"
      },
      "outputs": [
        {
          "output_type": "stream",
          "name": "stdout",
          "text": [
            "five is greater than two!\n"
          ]
        }
      ],
      "source": [
        "if 5.2:\n",
        "  print(\"five is greater than two!\")"
      ]
    },
    {
      "cell_type": "markdown",
      "source": [
        "#Python Comments"
      ],
      "metadata": {
        "id": "ItSVSQqkiYcG"
      }
    },
    {
      "cell_type": "code",
      "source": [
        "#This-is-a-comment\n",
        "print(\"Hello, world\")"
      ],
      "metadata": {
        "colab": {
          "base_uri": "https://localhost:8080/"
        },
        "id": "8bgJReuuieBY",
        "outputId": "7dd14b7d-6b4c-46f1-af86-4b8f6029b612"
      },
      "execution_count": 5,
      "outputs": [
        {
          "output_type": "stream",
          "name": "stdout",
          "text": [
            "Hello, world\n"
          ]
        }
      ]
    },
    {
      "cell_type": "markdown",
      "source": [
        "#Python Variable"
      ],
      "metadata": {
        "id": "KNJiynswity8"
      }
    },
    {
      "cell_type": "code",
      "source": [
        "x=1\n",
        "a, b=0,1\n",
        "a, b, c=0,1,2\n",
        "b=\"Sally\"#This-is-a-type-of-string"
      ],
      "metadata": {
        "id": "INgtsBkqjJ_w"
      },
      "execution_count": 9,
      "outputs": []
    },
    {
      "cell_type": "markdown",
      "source": [
        "#Casting"
      ],
      "metadata": {
        "id": "2WlKZab8iuPc"
      }
    },
    {
      "cell_type": "code",
      "source": [
        "b=\"Sally\" #This-is-a-type-of-string\n",
        "b=int(4)\n",
        "print(b)\n",
        "\n",
        "b=float(4)\n",
        "print(b)"
      ],
      "metadata": {
        "colab": {
          "base_uri": "https://localhost:8080/"
        },
        "id": "LpCfPXdrjpun",
        "outputId": "ec8b9a01-47ee-402d-a0c9-51f3ced7a9ad"
      },
      "execution_count": 12,
      "outputs": [
        {
          "output_type": "stream",
          "name": "stdout",
          "text": [
            "4\n",
            "4.0\n"
          ]
        }
      ]
    },
    {
      "cell_type": "markdown",
      "source": [
        "#Type() function"
      ],
      "metadata": {
        "id": "WUE9i8rBkClb"
      }
    },
    {
      "cell_type": "code",
      "source": [
        "x=5\n",
        "y=\"John\"\n",
        "print(type(x))\n",
        "print(type(y))"
      ],
      "metadata": {
        "colab": {
          "base_uri": "https://localhost:8080/"
        },
        "id": "yCo2ML8IkHF2",
        "outputId": "c58b07b7-c778-41b4-9ba4-a357a9df6a93"
      },
      "execution_count": 13,
      "outputs": [
        {
          "output_type": "stream",
          "name": "stdout",
          "text": [
            "<class 'int'>\n",
            "<class 'str'>\n"
          ]
        }
      ]
    },
    {
      "cell_type": "markdown",
      "source": [
        "#\"Double\" quotes or 'SIngle' qoute"
      ],
      "metadata": {
        "id": "AfXwC-qbkC3D"
      }
    },
    {
      "cell_type": "code",
      "source": [
        "y=\"John\"\n",
        "y='John'"
      ],
      "metadata": {
        "id": "pK8KY9zOky2N"
      },
      "execution_count": 15,
      "outputs": []
    },
    {
      "cell_type": "markdown",
      "source": [
        "#Case sensitive"
      ],
      "metadata": {
        "id": "cXOHNSgIkC6L"
      }
    },
    {
      "cell_type": "code",
      "source": [
        "a=4\n",
        "A=\"Sally\"\n",
        "#This-is-not-overwrite"
      ],
      "metadata": {
        "id": "wLELy9KYlTBs"
      },
      "execution_count": null,
      "outputs": []
    },
    {
      "cell_type": "markdown",
      "source": [
        "#Mutiple Variables"
      ],
      "metadata": {
        "id": "WL8vdJ4ylf7J"
      }
    },
    {
      "cell_type": "code",
      "source": [
        "x,y,z=\"one\",\"two\",\"three\"\n",
        "print(x)\n",
        "print(y)\n",
        "print(z)"
      ],
      "metadata": {
        "colab": {
          "base_uri": "https://localhost:8080/"
        },
        "id": "GreR2Qxgliiz",
        "outputId": "644bd737-6641-4dd0-83ef-f0ed516b4b3c"
      },
      "execution_count": 16,
      "outputs": [
        {
          "output_type": "stream",
          "name": "stdout",
          "text": [
            "one\n",
            "two\n",
            "three\n"
          ]
        }
      ]
    },
    {
      "cell_type": "markdown",
      "source": [
        "#One value to Mutiple variables"
      ],
      "metadata": {
        "id": "xLpx5F-vlyaY"
      }
    },
    {
      "cell_type": "code",
      "source": [
        "x=y=z=\"Four\"\n",
        "print(x)\n",
        "print(y)\n",
        "print(z)"
      ],
      "metadata": {
        "colab": {
          "base_uri": "https://localhost:8080/"
        },
        "id": "ikIoy0Pxl3wz",
        "outputId": "6f5bd9ab-a29c-4c23-b171-c2acb93cdd02"
      },
      "execution_count": 17,
      "outputs": [
        {
          "output_type": "stream",
          "name": "stdout",
          "text": [
            "Four\n",
            "Four\n",
            "Four\n"
          ]
        }
      ]
    },
    {
      "cell_type": "markdown",
      "source": [
        "@Output Variables"
      ],
      "metadata": {
        "id": "L5mSODpBmO0B"
      }
    },
    {
      "cell_type": "code",
      "source": [
        "x=\"enjoying\"\n",
        "print(\"Python programming is \"+x)"
      ],
      "metadata": {
        "colab": {
          "base_uri": "https://localhost:8080/"
        },
        "id": "tlaexPTemSFz",
        "outputId": "1f2c40f1-879f-4154-dcf4-2ac3bfd3b9c0"
      },
      "execution_count": 20,
      "outputs": [
        {
          "output_type": "stream",
          "name": "stdout",
          "text": [
            "Python programming is enjoying\n"
          ]
        }
      ]
    },
    {
      "cell_type": "code",
      "source": [
        "x=\"Python is \"\n",
        "y=\"enjoying\"\n",
        "z=x+y\n",
        "print(z)"
      ],
      "metadata": {
        "colab": {
          "base_uri": "https://localhost:8080/"
        },
        "id": "3x4ognwVm4QL",
        "outputId": "63ee55ed-8100-4118-ba47-1c1441a34a6a"
      },
      "execution_count": 24,
      "outputs": [
        {
          "output_type": "stream",
          "name": "stdout",
          "text": [
            "Python is enjoying\n"
          ]
        }
      ]
    },
    {
      "cell_type": "code",
      "source": [
        "x=5\n",
        "y=3\n",
        "print(x+y)\n",
        "sum=x+y\n",
        "sum"
      ],
      "metadata": {
        "colab": {
          "base_uri": "https://localhost:8080/"
        },
        "id": "g8XRKMmPnt16",
        "outputId": "0ec4747a-658f-42cc-bfbc-23c0404533c2"
      },
      "execution_count": 30,
      "outputs": [
        {
          "output_type": "stream",
          "name": "stdout",
          "text": [
            "8\n"
          ]
        },
        {
          "output_type": "execute_result",
          "data": {
            "text/plain": [
              "8"
            ]
          },
          "metadata": {},
          "execution_count": 30
        }
      ]
    },
    {
      "cell_type": "code",
      "source": [
        "a,b,c=0,-1,6\n",
        "c%=3\n",
        "c"
      ],
      "metadata": {
        "colab": {
          "base_uri": "https://localhost:8080/"
        },
        "id": "rx1js7CRoTx4",
        "outputId": "cd1958c0-28b9-44b3-a2e4-44de0ba775f9"
      },
      "execution_count": 32,
      "outputs": [
        {
          "output_type": "execute_result",
          "data": {
            "text/plain": [
              "0"
            ]
          },
          "metadata": {},
          "execution_count": 32
        }
      ]
    },
    {
      "cell_type": "markdown",
      "source": [
        "#comparison"
      ],
      "metadata": {
        "id": "DGC6EhrEpB9e"
      }
    },
    {
      "cell_type": "code",
      "source": [
        "a,b,c=0,-1,6\n",
        "a>b and c>b"
      ],
      "metadata": {
        "colab": {
          "base_uri": "https://localhost:8080/"
        },
        "id": "6bP_yquNpFBg",
        "outputId": "bcefa141-0b9a-4d0e-e4c1-da5a62ba3211"
      },
      "execution_count": 35,
      "outputs": [
        {
          "output_type": "execute_result",
          "data": {
            "text/plain": [
              "True"
            ]
          },
          "metadata": {},
          "execution_count": 35
        }
      ]
    },
    {
      "cell_type": "markdown",
      "source": [
        "#Identity"
      ],
      "metadata": {
        "id": "rF3kv0vbqU79"
      }
    },
    {
      "cell_type": "code",
      "source": [
        "a,b,c=0,-1,5\n",
        "a is c"
      ],
      "metadata": {
        "colab": {
          "base_uri": "https://localhost:8080/"
        },
        "id": "KBErJnEqqWWX",
        "outputId": "f9981c59-89d1-49cf-d398-6d4a419bc897"
      },
      "execution_count": 39,
      "outputs": [
        {
          "output_type": "execute_result",
          "data": {
            "text/plain": [
              "False"
            ]
          },
          "metadata": {},
          "execution_count": 39
        }
      ]
    },
    {
      "cell_type": "markdown",
      "source": [
        "#Bitwise"
      ],
      "metadata": {
        "id": "0W7ZKG1Eq1GU"
      }
    },
    {
      "cell_type": "code",
      "source": [
        "a,b,c=0,-1,5\n",
        "print(c>>1)\n",
        "print(c<<1)"
      ],
      "metadata": {
        "colab": {
          "base_uri": "https://localhost:8080/"
        },
        "id": "zOmKM8yuq3mv",
        "outputId": "71e56ee2-1445-4e04-d032-71b9af05bca5"
      },
      "execution_count": 49,
      "outputs": [
        {
          "output_type": "stream",
          "name": "stdout",
          "text": [
            "2\n",
            "10\n"
          ]
        }
      ]
    }
  ]
}