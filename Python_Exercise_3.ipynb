{
  "nbformat": 4,
  "nbformat_minor": 0,
  "metadata": {
    "colab": {
      "provenance": [],
      "authorship_tag": "ABX9TyNZz6bBGs0VLNlhPYbyuFzT",
      "include_colab_link": true
    },
    "kernelspec": {
      "name": "python3",
      "display_name": "Python 3"
    },
    "language_info": {
      "name": "python"
    }
  },
  "cells": [
    {
      "cell_type": "markdown",
      "metadata": {
        "id": "view-in-github",
        "colab_type": "text"
      },
      "source": [
        "<a href=\"https://colab.research.google.com/github/MyrewinGrepo/58013-Linear-Algebra/blob/main/Python_Exercise_3.ipynb\" target=\"_parent\"><img src=\"https://colab.research.google.com/assets/colab-badge.svg\" alt=\"Open In Colab\"/></a>"
      ]
    },
    {
      "cell_type": "markdown",
      "source": [
        "#We can programmatically solve this using np.add() or simply using +."
      ],
      "metadata": {
        "id": "YhyheO1rxJKl"
      }
    },
    {
      "cell_type": "code",
      "execution_count": 4,
      "metadata": {
        "colab": {
          "base_uri": "https://localhost:8080/"
        },
        "id": "oyDRNP1NxEiu",
        "outputId": "b5930f8f-fc14-49ba-a839-5da6f8d32370"
      },
      "outputs": [
        {
          "output_type": "execute_result",
          "data": {
            "text/plain": [
              "2"
            ]
          },
          "metadata": {},
          "execution_count": 4
        }
      ],
      "source": [
        "import numpy as np\n",
        "\n",
        "A = np.array([1,2,0])\n",
        "B = np.array([3,1,-2])\n",
        "C = np.array([0,0,1])\n",
        "\n",
        "A+B+C\n",
        "\n",
        "np.add(A,np.add(B,C))\n",
        "\n",
        "np.sum(B)\n"
      ]
    },
    {
      "cell_type": "markdown",
      "source": [
        "#Vector Subtraction"
      ],
      "metadata": {
        "id": "K6S6RvDDx4Jv"
      }
    },
    {
      "cell_type": "code",
      "source": [
        "np.subtract(A,B)\n",
        "\n",
        "A-B"
      ],
      "metadata": {
        "colab": {
          "base_uri": "https://localhost:8080/"
        },
        "id": "_dCi7hJPxh5a",
        "outputId": "0a53805e-1022-4614-ff49-6cf01720f7f6"
      },
      "execution_count": 8,
      "outputs": [
        {
          "output_type": "execute_result",
          "data": {
            "text/plain": [
              "array([-2,  1,  2])"
            ]
          },
          "metadata": {},
          "execution_count": 8
        }
      ]
    },
    {
      "cell_type": "markdown",
      "source": [
        "#Vector Multiplication"
      ],
      "metadata": {
        "id": "aKo8D-xMx6og"
      }
    },
    {
      "cell_type": "code",
      "source": [
        "np.multiply(A,B)\n",
        "\n",
        "A*B"
      ],
      "metadata": {
        "colab": {
          "base_uri": "https://localhost:8080/"
        },
        "id": "axREzYWzx6v7",
        "outputId": "37f99a09-bd7c-4227-d67c-3a1a5ce33372"
      },
      "execution_count": 9,
      "outputs": [
        {
          "output_type": "execute_result",
          "data": {
            "text/plain": [
              "array([3, 2, 0])"
            ]
          },
          "metadata": {},
          "execution_count": 9
        }
      ]
    },
    {
      "cell_type": "markdown",
      "source": [
        "#Vector Division"
      ],
      "metadata": {
        "id": "yqk109hbx62O"
      }
    },
    {
      "cell_type": "code",
      "source": [
        "np.divide(A,B)\n",
        "\n",
        "A/B\n",
        "\n",
        "C = np.array([3.9,1.8,7.7])\n",
        "D = np.array([1,1,1])\n",
        "C//D\n",
        "\n",
        "np.array(A/B,dtype=int)"
      ],
      "metadata": {
        "colab": {
          "base_uri": "https://localhost:8080/"
        },
        "id": "gyEKYLXSx67j",
        "outputId": "062e5cda-09b5-467a-8a62-0dcb22917448"
      },
      "execution_count": 10,
      "outputs": [
        {
          "output_type": "execute_result",
          "data": {
            "text/plain": [
              "array([0, 2, 0])"
            ]
          },
          "metadata": {},
          "execution_count": 10
        }
      ]
    }
  ]
}