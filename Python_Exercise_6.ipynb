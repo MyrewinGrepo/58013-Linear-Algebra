{
  "nbformat": 4,
  "nbformat_minor": 0,
  "metadata": {
    "colab": {
      "provenance": [],
      "authorship_tag": "ABX9TyMgLh7oYnwohvTscnUJzJUn",
      "include_colab_link": true
    },
    "kernelspec": {
      "name": "python3",
      "display_name": "Python 3"
    },
    "language_info": {
      "name": "python"
    }
  },
  "cells": [
    {
      "cell_type": "markdown",
      "metadata": {
        "id": "view-in-github",
        "colab_type": "text"
      },
      "source": [
        "<a href=\"https://colab.research.google.com/github/MyrewinGrepo/58013-Linear-Algebra/blob/main/Python_Exercise_6.ipynb\" target=\"_parent\"><img src=\"https://colab.research.google.com/assets/colab-badge.svg\" alt=\"Open In Colab\"/></a>"
      ]
    },
    {
      "cell_type": "code",
      "execution_count": 1,
      "metadata": {
        "colab": {
          "base_uri": "https://localhost:8080/"
        },
        "id": "OzehaGocaGLQ",
        "outputId": "0e5955bd-6dc6-4fab-fa43-ce53542b2f9f"
      },
      "outputs": [
        {
          "output_type": "stream",
          "name": "stdout",
          "text": [
            "[[2, 4, 6, 8, 10], [3, 6, 9, 12, 15], [4, 8, 12, 16, 20]]\n"
          ]
        }
      ],
      "source": [
        "# Python program to demonstrate printing\n",
        "# of complete multidimensional list\n",
        "a = [[2, 4, 6, 8, 10], [3, 6, 9, 12, 15], [4, 8, 12, 16, 20]]\n",
        "print(a)"
      ]
    },
    {
      "cell_type": "code",
      "source": [
        "# Python program to demonstrate printing\n",
        "# of complete multidimensional list row\n",
        "# by row.\n",
        "a = [[2, 4, 6, 8, 10], [3, 6, 9, 12, 15], [4, 8, 12, 16, 20]]\n",
        "for record in a:\n",
        "    print(record)"
      ],
      "metadata": {
        "colab": {
          "base_uri": "https://localhost:8080/"
        },
        "id": "QrBRc6WUamxL",
        "outputId": "56226376-4b28-4cf9-91aa-69e88e3f73c6"
      },
      "execution_count": 2,
      "outputs": [
        {
          "output_type": "stream",
          "name": "stdout",
          "text": [
            "[2, 4, 6, 8, 10]\n",
            "[3, 6, 9, 12, 15]\n",
            "[4, 8, 12, 16, 20]\n"
          ]
        }
      ]
    },
    {
      "cell_type": "code",
      "source": [
        "# Python program to demonstrate that we\n",
        "# can access multidimensional list using\n",
        "# square brackets\n",
        "a = [ [2, 4, 6, 8 ],\n",
        "    [ 1, 3, 5, 7 ],\n",
        "    [ 8, 6, 4, 2 ],\n",
        "    [ 7, 5, 3, 1 ] ]\n",
        "\n",
        "for i in range(len(a)) :\n",
        "    for j in range(len(a[i])) :\n",
        "        print(a[i][j], end=\" \")\n",
        "    print()\n"
      ],
      "metadata": {
        "colab": {
          "base_uri": "https://localhost:8080/"
        },
        "id": "NBfIeSAwankr",
        "outputId": "9d8a6403-9a29-43e1-8c74-73d63632f876"
      },
      "execution_count": 3,
      "outputs": [
        {
          "output_type": "stream",
          "name": "stdout",
          "text": [
            "2 4 6 8 \n",
            "1 3 5 7 \n",
            "8 6 4 2 \n",
            "7 5 3 1 \n"
          ]
        }
      ]
    }
  ]
}