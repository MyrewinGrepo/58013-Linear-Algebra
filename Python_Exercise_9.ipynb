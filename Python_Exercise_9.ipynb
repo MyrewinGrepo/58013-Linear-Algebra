{
  "nbformat": 4,
  "nbformat_minor": 0,
  "metadata": {
    "colab": {
      "provenance": [],
      "authorship_tag": "ABX9TyMViN2+Rhli/7MMggGo2OQP",
      "include_colab_link": true
    },
    "kernelspec": {
      "name": "python3",
      "display_name": "Python 3"
    },
    "language_info": {
      "name": "python"
    }
  },
  "cells": [
    {
      "cell_type": "markdown",
      "metadata": {
        "id": "view-in-github",
        "colab_type": "text"
      },
      "source": [
        "<a href=\"https://colab.research.google.com/github/MyrewinGrepo/58013-Linear-Algebra/blob/main/Python_Exercise_9.ipynb\" target=\"_parent\"><img src=\"https://colab.research.google.com/assets/colab-badge.svg\" alt=\"Open In Colab\"/></a>"
      ]
    },
    {
      "cell_type": "code",
      "source": [
        "import numpy as np\n",
        "import matplotlib.pyplot as plt\n",
        "%matplotlib inline"
      ],
      "metadata": {
        "id": "w1Gpgq3zKSKw"
      },
      "execution_count": null,
      "outputs": []
    },
    {
      "cell_type": "markdown",
      "source": [
        "Prove and implement the remaining 6 matrix multiplication properties. You may create your own matrices in which their shapes should not be lower than (3,3). In your methodology, create individual flowcharts for each property and discuss the property you would then present your proofs or validity of your implementation in the results section by comparing your result to present functions from NumPy."
      ],
      "metadata": {
        "id": "sm3qjW4hKlbu"
      }
    },
    {
      "cell_type": "code",
      "execution_count": null,
      "metadata": {
        "colab": {
          "base_uri": "https://localhost:8080/"
        },
        "id": "Qq-uC8l7HE4i",
        "outputId": "ce224cdb-d6fe-4c32-db79-e7bc76314945"
      },
      "outputs": [
        {
          "output_type": "stream",
          "name": "stdout",
          "text": [
            "[[44 42 45]\n",
            " [47 44 34]\n",
            " [66 42 21]]\n",
            "[[ 42  24  14]\n",
            " [120  24  48]\n",
            " [103  44  43]]\n"
          ]
        }
      ],
      "source": [
        "#Commutative\n",
        "C = np.array([\n",
        "    [5,4,1],\n",
        "    [4,2,3],\n",
        "    [9,0,3]\n",
        "])\n",
        "D = np.array([\n",
        "    [5,2,1],\n",
        "    [3,6,9],\n",
        "    [7,8,4]\n",
        "])\n",
        "print(np.dot(C,D))\n",
        "print(np.dot(D,C))"
      ]
    },
    {
      "cell_type": "code",
      "source": [
        "#Associative\n",
        "E = np.array([\n",
        "    [9,4,3],\n",
        "    [8,5,2],\n",
        "    [7,6,1]\n",
        "])\n",
        "F = np.array([\n",
        "    [5,0,7],\n",
        "    [8,5,2],\n",
        "    [6,1,9]\n",
        "])\n",
        "G = np.array([\n",
        "    [1,6,0],\n",
        "    [2,5,9],\n",
        "    [3,7,8]\n",
        "])\n",
        "print(np.dot(E, np.dot(F,G)))\n",
        "print(np.dot(np.dot(E,F), G))"
      ],
      "metadata": {
        "colab": {
          "base_uri": "https://localhost:8080/"
        },
        "id": "IcuK-7e3Km4a",
        "outputId": "2858ebaa-88ee-4401-fb99-71705aeee03a"
      },
      "execution_count": null,
      "outputs": [
        {
          "output_type": "stream",
          "name": "stdout",
          "text": [
            "[[ 435 1371  991]\n",
            " [ 398 1275  915]\n",
            " [ 361 1179  839]]\n",
            "[[ 435 1371  991]\n",
            " [ 398 1275  915]\n",
            " [ 361 1179  839]]\n"
          ]
        }
      ]
    },
    {
      "cell_type": "code",
      "source": [
        "#Identity\n",
        "K = np.array([\n",
        "    [2,4,2],\n",
        "    [4,8,1],\n",
        "    [8,3,6]\n",
        "])\n",
        "L = np.array([\n",
        "    [5,8,9],\n",
        "    [1,6,1],\n",
        "    [8,7,5]\n",
        "])\n",
        "print(np.dot(K,L))"
      ],
      "metadata": {
        "colab": {
          "base_uri": "https://localhost:8080/"
        },
        "id": "OffsUcfYLGTJ",
        "outputId": "57b55ca0-8083-4cab-9cb6-43ac67aa7844"
      },
      "execution_count": null,
      "outputs": [
        {
          "output_type": "stream",
          "name": "stdout",
          "text": [
            "[[ 30  54  32]\n",
            " [ 36  87  49]\n",
            " [ 91 124 105]]\n"
          ]
        }
      ]
    },
    {
      "cell_type": "code",
      "source": [
        "#Distributive\n",
        "H = np.array([\n",
        "    [1,0,6],\n",
        "    [1,2,4],\n",
        "    [9,4,8]\n",
        "])\n",
        "I = np.array([\n",
        "    [6,2,0],\n",
        "    [8,6,2],\n",
        "    [3,9,2]\n",
        "])\n",
        "J = np.array([\n",
        "    [2,4,8],\n",
        "    [3,2,9],\n",
        "    [8,9,1]\n",
        "])\n",
        "print(np.add(H, np.dot(I,J)))\n",
        "print(np.add(np.dot(H,I), J))"
      ],
      "metadata": {
        "colab": {
          "base_uri": "https://localhost:8080/"
        },
        "id": "oKOmbPuuMC4w",
        "outputId": "a054950d-effa-4a63-b38f-7ac0f1f90a0b"
      },
      "execution_count": null,
      "outputs": [
        {
          "output_type": "stream",
          "name": "stdout",
          "text": [
            "[[ 19  28  72]\n",
            " [ 51  64 124]\n",
            " [ 58  52 115]]\n",
            "[[ 26  60  20]\n",
            " [ 37  52  21]\n",
            " [118 123  25]]\n"
          ]
        }
      ]
    },
    {
      "cell_type": "code",
      "source": [
        "#Zero\n",
        "M = np.array([\n",
        "    [2,5,6],\n",
        "    [3,0,6],\n",
        "    [8,6,3]\n",
        "])\n",
        "N = np.array([\n",
        "    [0,0,0],\n",
        "    [0,0,0],\n",
        "    [0,0,0]\n",
        "])\n",
        "print(np.dot(M,N))"
      ],
      "metadata": {
        "colab": {
          "base_uri": "https://localhost:8080/"
        },
        "id": "11QRnKVEMrvq",
        "outputId": "dd9ac737-8f36-4c33-fb3b-225d1233793d"
      },
      "execution_count": null,
      "outputs": [
        {
          "output_type": "stream",
          "name": "stdout",
          "text": [
            "[[0 0 0]\n",
            " [0 0 0]\n",
            " [0 0 0]]\n"
          ]
        }
      ]
    },
    {
      "cell_type": "code",
      "source": [
        "#Dimension\n",
        "O = np.array([\n",
        "    [1,0,7],\n",
        "    [3,6,1]\n",
        "])\n",
        "P = np.array([\n",
        "    [3,1,],\n",
        "    [1,2,],\n",
        "    [6,3,]\n",
        "])\n",
        "print(np.dot(O,P))\n",
        "print(np.dot(P,O))\n"
      ],
      "metadata": {
        "colab": {
          "base_uri": "https://localhost:8080/"
        },
        "id": "3kW5Exs5NIpG",
        "outputId": "569f813a-1daf-440b-9b14-8ba0b78beaf3"
      },
      "execution_count": null,
      "outputs": [
        {
          "output_type": "stream",
          "name": "stdout",
          "text": [
            "[[45 22]\n",
            " [21 18]]\n",
            "[[ 6  6 22]\n",
            " [ 7 12  9]\n",
            " [15 18 45]]\n"
          ]
        }
      ]
    }
  ]
}