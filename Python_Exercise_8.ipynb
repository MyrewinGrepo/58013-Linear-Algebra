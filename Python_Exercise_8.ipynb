{
  "nbformat": 4,
  "nbformat_minor": 0,
  "metadata": {
    "colab": {
      "provenance": [],
      "authorship_tag": "ABX9TyPZxgpSfxWz9EV6btyhlOO3",
      "include_colab_link": true
    },
    "kernelspec": {
      "name": "python3",
      "display_name": "Python 3"
    },
    "language_info": {
      "name": "python"
    }
  },
  "cells": [
    {
      "cell_type": "markdown",
      "metadata": {
        "id": "view-in-github",
        "colab_type": "text"
      },
      "source": [
        "<a href=\"https://colab.research.google.com/github/MyrewinGrepo/58013-Linear-Algebra/blob/main/Python_Exercise_8.ipynb\" target=\"_parent\"><img src=\"https://colab.research.google.com/assets/colab-badge.svg\" alt=\"Open In Colab\"/></a>"
      ]
    },
    {
      "cell_type": "code",
      "execution_count": 1,
      "metadata": {
        "colab": {
          "base_uri": "https://localhost:8080/"
        },
        "id": "Te3wZyACdXkB",
        "outputId": "2ab2056e-622d-4e64-c456-8efb155934b4"
      },
      "outputs": [
        {
          "output_type": "stream",
          "name": "stdout",
          "text": [
            "[[1 2 3]\n",
            " [4 5 6]\n",
            " [7 8 9]]\n",
            "[[-7.  2.]\n",
            " [ 4. -1.]]\n"
          ]
        }
      ],
      "source": [
        "##Python codes to declare a matrix\n",
        "import numpy as np\n",
        "A = np.array ([[1,2,3],[4,5,6],[7,8,9]])\n",
        "print(A)\n",
        "\n",
        "A=np.array([[1,2],[4,7]])\n",
        "B=(np.linalg.inv(A))\n",
        "print(B)\n"
      ]
    },
    {
      "cell_type": "code",
      "source": [
        "import numpy as np\n",
        "A = np.array([[1,2],[4,7]])\n",
        "invA = (np.linalg.inv(A))\n",
        "print(invA)\n"
      ],
      "metadata": {
        "colab": {
          "base_uri": "https://localhost:8080/"
        },
        "id": "DuNT1cthdjpq",
        "outputId": "4d0e4976-8b3a-4cb3-d96f-4c991cd9250a"
      },
      "execution_count": 2,
      "outputs": [
        {
          "output_type": "stream",
          "name": "stdout",
          "text": [
            "[[-7.  2.]\n",
            " [ 4. -1.]]\n"
          ]
        }
      ]
    },
    {
      "cell_type": "code",
      "source": [
        "#Python Program to Transpose a 4x4 Matrix A=([[6,1,1,3],[4,-2,5,1],[2,8,7,6],[3,1,9,7]])\n",
        "A=np.array([[6,1,1,3],[4,-2,5,1],[2,8,7,6],[3,1,9,7]])\n",
        "print(A)\n",
        "B=(np.transpose(A))\n",
        "print(B)\n"
      ],
      "metadata": {
        "id": "X3jh6_qGdmus",
        "outputId": "86f177e8-3491-422d-d9c2-ea38e8e5e10a",
        "colab": {
          "base_uri": "https://localhost:8080/"
        }
      },
      "execution_count": 3,
      "outputs": [
        {
          "output_type": "stream",
          "name": "stdout",
          "text": [
            "[[ 6  1  1  3]\n",
            " [ 4 -2  5  1]\n",
            " [ 2  8  7  6]\n",
            " [ 3  1  9  7]]\n",
            "[[ 6  4  2  3]\n",
            " [ 1 -2  8  1]\n",
            " [ 1  5  7  9]\n",
            " [ 3  1  6  7]]\n"
          ]
        }
      ]
    }
  ]
}