{
  "nbformat": 4,
  "nbformat_minor": 0,
  "metadata": {
    "colab": {
      "provenance": [],
      "authorship_tag": "ABX9TyNDOkHpSLf2HLSQIaqRzqYS",
      "include_colab_link": true
    },
    "kernelspec": {
      "name": "python3",
      "display_name": "Python 3"
    },
    "language_info": {
      "name": "python"
    }
  },
  "cells": [
    {
      "cell_type": "markdown",
      "metadata": {
        "id": "view-in-github",
        "colab_type": "text"
      },
      "source": [
        "<a href=\"https://colab.research.google.com/github/MyrewinGrepo/58013-Linear-Algebra/blob/main/Practical_Exam.ipynb\" target=\"_parent\"><img src=\"https://colab.research.google.com/assets/colab-badge.svg\" alt=\"Open In Colab\"/></a>"
      ]
    },
    {
      "cell_type": "markdown",
      "source": [
        "#Question1"
      ],
      "metadata": {
        "id": "eMs3B5FKvZmc"
      }
    },
    {
      "cell_type": "code",
      "execution_count": 2,
      "metadata": {
        "colab": {
          "base_uri": "https://localhost:8080/"
        },
        "id": "d8262hHYuzp0",
        "outputId": "533bca06-78fc-49c7-e499-97fb91be8de1"
      },
      "outputs": [
        {
          "output_type": "stream",
          "name": "stdout",
          "text": [
            "[list([1, 2, 3, 4, 5, 6, 7, 8, 9, 10])\n",
            " list([2, 4, 6, 8, 10, 12, 14, 16, 18, 20])\n",
            " list([3, 6, 9, 12, 15, 18, 21, 24, 17, 30])\n",
            " list([4, 8, 12, 16, 20, 24, 28, 32, 36, 40])\n",
            " list([5, 10, 15, 20, 25, 30, 35, 40, 45, 50])\n",
            " list([6, 12, 18, 24, 30, 36, 42, 48, 54.6])\n",
            " list([7, 14, 21, 28, 35, 42, 49, 56, 63, 70])\n",
            " list([8, 16, 24, 32, 40, 48, 56, 64, 72, 80])\n",
            " list([9, 18, 27, 36, 45, 54, 63, 72, 81, 90])\n",
            " list([10, 20, 30, 40, 50, 60, 70, 80, 90, 100])] 0\n"
          ]
        },
        {
          "output_type": "stream",
          "name": "stderr",
          "text": [
            "<ipython-input-2-193710ec95c2>:3: VisibleDeprecationWarning: Creating an ndarray from ragged nested sequences (which is a list-or-tuple of lists-or-tuples-or ndarrays with different lengths or shapes) is deprecated. If you meant to do this, you must specify 'dtype=object' when creating the ndarray.\n",
            "  z=np.array([[1,2,3,4,5,6,7,8,9,10],\n"
          ]
        }
      ],
      "source": [
        "import numpy as np\n",
        "\n",
        "z=np.array([[1,2,3,4,5,6,7,8,9,10],\n",
        "            [2,4,6,8,10,12,14,16,18,20],\n",
        "            [3,6,9,12,15,18,21,24,17,30],\n",
        "            [4,8,12,16,20,24,28,32,36,40],\n",
        "            [5,10,15,20,25,30,35,40,45,50],\n",
        "            [6,12,18,24,30,36,42,48,54.60],\n",
        "            [7,14,21,28,35,42,49,56,63,70],\n",
        "            [8,16,24,32,40,48,56,64,72,80],\n",
        "            [9,18,27,36,45,54,63,72,81,90],\n",
        "            [10,20,30,40,50,60,70,80,90,100]])\n",
        "print(z)"
      ]
    },
    {
      "cell_type": "markdown",
      "source": [],
      "metadata": {
        "id": "eAXAJZ2V6S2Z"
      }
    },
    {
      "cell_type": "markdown",
      "source": [
        "#Question 2"
      ],
      "metadata": {
        "id": "DRrTcvlnv-gi"
      }
    },
    {
      "cell_type": "code",
      "source": [
        "squared=np.squared(z)\n",
        "print(squared)"
      ],
      "metadata": {
        "colab": {
          "base_uri": "https://localhost:8080/"
        },
        "id": "WrQOaTn0wQry",
        "outputId": "e9e13d5b-5b13-40f2-a346-1612e87e59e8"
      },
      "execution_count": 9,
      "outputs": [
        {
          "output_type": "error",
          "ename": "AttributeError",
          "evalue": "ignored",
          "traceback": [
            "\u001b[0;31m---------------------------------------------------------------------------\u001b[0m",
            "\u001b[0;31mAttributeError\u001b[0m                            Traceback (most recent call last)",
            "\u001b[0;32m<ipython-input-9-de6d4f2626f8>\u001b[0m in \u001b[0;36m<cell line: 1>\u001b[0;34m()\u001b[0m\n\u001b[0;32m----> 1\u001b[0;31m \u001b[0msquared\u001b[0m\u001b[0;34m=\u001b[0m\u001b[0mnp\u001b[0m\u001b[0;34m.\u001b[0m\u001b[0msquared\u001b[0m\u001b[0;34m(\u001b[0m\u001b[0mz\u001b[0m\u001b[0;34m)\u001b[0m\u001b[0;34m\u001b[0m\u001b[0;34m\u001b[0m\u001b[0m\n\u001b[0m\u001b[1;32m      2\u001b[0m \u001b[0mprint\u001b[0m\u001b[0;34m(\u001b[0m\u001b[0msquared\u001b[0m\u001b[0;34m)\u001b[0m\u001b[0;34m\u001b[0m\u001b[0;34m\u001b[0m\u001b[0m\n",
            "\u001b[0;32m/usr/local/lib/python3.10/dist-packages/numpy/__init__.py\u001b[0m in \u001b[0;36m__getattr__\u001b[0;34m(attr)\u001b[0m\n\u001b[1;32m    309\u001b[0m             \u001b[0;32mreturn\u001b[0m \u001b[0mTester\u001b[0m\u001b[0;34m\u001b[0m\u001b[0;34m\u001b[0m\u001b[0m\n\u001b[1;32m    310\u001b[0m \u001b[0;34m\u001b[0m\u001b[0m\n\u001b[0;32m--> 311\u001b[0;31m         raise AttributeError(\"module {!r} has no attribute \"\n\u001b[0m\u001b[1;32m    312\u001b[0m                              \"{!r}\".format(__name__, attr))\n\u001b[1;32m    313\u001b[0m \u001b[0;34m\u001b[0m\u001b[0m\n",
            "\u001b[0;31mAttributeError\u001b[0m: module 'numpy' has no attribute 'squared'"
          ]
        }
      ]
    },
    {
      "cell_type": "markdown",
      "source": [
        "#Question 3\n",
        "\n"
      ],
      "metadata": {
        "id": "u2r45qOswBhq"
      }
    },
    {
      "cell_type": "code",
      "source": [
        "import numpy as np\n",
        "\n",
        "c=np.eye(3,3)\n",
        "print(c)"
      ],
      "metadata": {
        "id": "guOQlch1vqrz",
        "colab": {
          "base_uri": "https://localhost:8080/"
        },
        "outputId": "d4ae9ab1-c9fc-4657-95ea-726ab47ca9bf"
      },
      "execution_count": null,
      "outputs": [
        {
          "output_type": "stream",
          "name": "stdout",
          "text": [
            "[[1. 0. 0.]\n",
            " [0. 1. 0.]\n",
            " [0. 0. 1.]]\n"
          ]
        }
      ]
    },
    {
      "cell_type": "markdown",
      "source": [
        "Question 4"
      ],
      "metadata": {
        "id": "rMkQgi-OzmLg"
      }
    },
    {
      "cell_type": "code",
      "source": [
        "import numpy as np\n",
        "\n",
        "matrix = np.array([[1, 2, 3, 4],\n",
        "                   [5, 6, 7, 8],\n",
        "                   [9, 10, 11, 12]])\n",
        "print(\"size:\",np.size(matrix))\n",
        "print(\"shape:\",np.shape(matrix))\n",
        "print(\"dimension:\",np.ndim(matrix))\n",
        "\n",
        "\n"
      ],
      "metadata": {
        "id": "CvnYPHE9zny3",
        "colab": {
          "base_uri": "https://localhost:8080/"
        },
        "outputId": "e5db15a9-c669-48e0-81bc-3a96c3d063fd"
      },
      "execution_count": 4,
      "outputs": [
        {
          "output_type": "stream",
          "name": "stdout",
          "text": [
            "size: 12\n",
            "shape: (3, 4)\n",
            "dimension: 2\n"
          ]
        }
      ]
    },
    {
      "cell_type": "markdown",
      "source": [
        "#Question5"
      ],
      "metadata": {
        "id": "m3E_8U3_8KwH"
      }
    },
    {
      "cell_type": "code",
      "source": [
        "import numpy as np\n",
        "\n",
        "arrayOne = np.array([[5, 6, 9], [21, 18, 27]])\n",
        "arrayTwo = np.array([[15, 33, 24], [4, 7, 1]])\n",
        "\n",
        "result_array = arrayOne + arrayTwo\n",
        "result_array_squared = np.square(result_array)\n",
        "\n",
        "print(result_array)\n",
        "\n",
        "print(result_array_squared)\n"
      ],
      "metadata": {
        "colab": {
          "base_uri": "https://localhost:8080/"
        },
        "id": "ihQp3BQvAaiD",
        "outputId": "0640c9fa-5b02-47aa-dd63-4815465a6f73"
      },
      "execution_count": 8,
      "outputs": [
        {
          "output_type": "stream",
          "name": "stdout",
          "text": [
            "[[20 39 33]\n",
            " [25 25 28]]\n",
            "[[ 400 1521 1089]\n",
            " [ 625  625  784]]\n"
          ]
        }
      ]
    }
  ]
}