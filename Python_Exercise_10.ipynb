{
  "nbformat": 4,
  "nbformat_minor": 0,
  "metadata": {
    "colab": {
      "provenance": [],
      "authorship_tag": "ABX9TyPGk13J/JslID8mNWmOBus5",
      "include_colab_link": true
    },
    "kernelspec": {
      "name": "python3",
      "display_name": "Python 3"
    },
    "language_info": {
      "name": "python"
    }
  },
  "cells": [
    {
      "cell_type": "markdown",
      "metadata": {
        "id": "view-in-github",
        "colab_type": "text"
      },
      "source": [
        "<a href=\"https://colab.research.google.com/github/MyrewinGrepo/58013-Linear-Algebra/blob/main/Python_Exercise_10.ipynb\" target=\"_parent\"><img src=\"https://colab.research.google.com/assets/colab-badge.svg\" alt=\"Open In Colab\"/></a>"
      ]
    },
    {
      "cell_type": "markdown",
      "source": [
        "So let's start off with an easy one. Let's say you have a bakery and you are purchasing supplies consisting of flour, yeast, and eggs from your supplier. For month 1 you bought a bakery promo that consists of 30 sacks of flour, 10 packs of yeast, and 120 eggs and you are charged for 12,500 pesos. For month two you bought a different bakery promo that consists of 40 sacks of flour, 20 packs of yeast, and 200 eggs then you are charged with 18,000 pesos. And then for month three you bought yet a different bakery promo that consists of 50 sacks of flour, 40 packs of yeast, and 360 eggs for 25,700 pesos. Now you are wondering if the promos are more cost-effective compared to buying them as a regular buyer, what could be the price of the flour per sack, yeast per pack, and one piece of egg?"
      ],
      "metadata": {
        "id": "Vx3qCgo9QADc"
      }
    },
    {
      "cell_type": "code",
      "execution_count": 1,
      "metadata": {
        "colab": {
          "base_uri": "https://localhost:8080/"
        },
        "id": "cf_HyTLGP-f8",
        "outputId": "0471266a-a476-4aa4-e049-e8c51cbedbbd"
      },
      "outputs": [
        {
          "output_type": "stream",
          "name": "stdout",
          "text": [
            "Price of Flour per Sack: ₱ 329.99999999999864\n",
            "Price of Yeast per Sack: ₱ 139.99999999999844\n",
            "Price of One Egg: ₱ 10.000000000000059\n"
          ]
        }
      ],
      "source": [
        "import numpy as np\n",
        "\n",
        "X = np.array([\n",
        "    [30, 10, 120],\n",
        "    [40, 20, 200],\n",
        "    [50, 40, 360]\n",
        "], dtype=float)\n",
        "\n",
        "Y = np.array([\n",
        "    [12500],\n",
        "    [18000],\n",
        "    [25700]\n",
        "], dtype=float)\n",
        "\n",
        "invertX = np.linalg.inv(X)\n",
        "result = np.dot(invertX, Y)\n",
        "\n",
        "flour = result[0][0]\n",
        "yeast = result[1][0]\n",
        "egg = result[2][0]\n",
        "\n",
        "print(\"Price of Flour per Sack: ₱\", flour)\n",
        "print(\"Price of Yeast per Sack: ₱\", yeast)\n",
        "print(\"Price of One Egg: ₱\", egg)\n"
      ]
    }
  ]
}