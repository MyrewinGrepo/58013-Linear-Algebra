{
  "nbformat": 4,
  "nbformat_minor": 0,
  "metadata": {
    "colab": {
      "provenance": [],
      "authorship_tag": "ABX9TyP1no93Q5jeTawKz8ly5cCT",
      "include_colab_link": true
    },
    "kernelspec": {
      "name": "python3",
      "display_name": "Python 3"
    },
    "language_info": {
      "name": "python"
    }
  },
  "cells": [
    {
      "cell_type": "markdown",
      "metadata": {
        "id": "view-in-github",
        "colab_type": "text"
      },
      "source": [
        "<a href=\"https://colab.research.google.com/github/MyrewinGrepo/58013-Linear-Algebra/blob/main/Python_Exercise_7.ipynb\" target=\"_parent\"><img src=\"https://colab.research.google.com/assets/colab-badge.svg\" alt=\"Open In Colab\"/></a>"
      ]
    },
    {
      "cell_type": "code",
      "execution_count": 10,
      "metadata": {
        "id": "FiqRVlMJbtau"
      },
      "outputs": [],
      "source": [
        "## Since we'll keep on describing matrices. Let's make a function.\n",
        "def describe_mat(matrix):\n",
        "    print(f'Matrix:\\n{matrix}\\n\\nShape:\\t{matrix.shape}\\nRank:\\t{matrix.ndim}\\n')\n"
      ]
    },
    {
      "cell_type": "code",
      "source": [
        "## Declaring a 2 x 2 matrix\n",
        "import numpy as np\n",
        "A = np.array([\n",
        "    [1, 2],\n",
        "    [3, 1]\n",
        "])\n",
        "describe_mat(A)\n"
      ],
      "metadata": {
        "colab": {
          "base_uri": "https://localhost:8080/"
        },
        "id": "A6HJnJXIbxsi",
        "outputId": "68f61f48-240f-4f91-e22c-cb84713a0c5e"
      },
      "execution_count": 6,
      "outputs": [
        {
          "output_type": "stream",
          "name": "stdout",
          "text": [
            "Matrix:\n",
            "[[1 2]\n",
            " [3 1]]\n",
            "\n",
            "Shape:\t(2, 2)\n",
            "Rank:\t2\n",
            "\n"
          ]
        }
      ]
    },
    {
      "cell_type": "code",
      "source": [
        "G = np.array([\n",
        "    [1,1],\n",
        "    [2,2]\n",
        "])\n",
        "describe_mat(G)\n"
      ],
      "metadata": {
        "colab": {
          "base_uri": "https://localhost:8080/"
        },
        "id": "rQu4fzA8b1Ra",
        "outputId": "54f8e1ea-4a94-4a9d-ac5a-0eab81b36713"
      },
      "execution_count": 7,
      "outputs": [
        {
          "output_type": "stream",
          "name": "stdout",
          "text": [
            "Matrix:\n",
            "[[1 1]\n",
            " [2 2]]\n",
            "\n",
            "Shape:\t(2, 2)\n",
            "Rank:\t2\n",
            "\n"
          ]
        }
      ]
    },
    {
      "cell_type": "code",
      "source": [
        "## Declaring a 3 x 2 matrix\n",
        "B = np.array([\n",
        "    [8, 2],\n",
        "    [5, 4],\n",
        "    [1, 1]\n",
        "])\n",
        "describe_mat(B)\n"
      ],
      "metadata": {
        "colab": {
          "base_uri": "https://localhost:8080/"
        },
        "id": "2qvOdVD6b3_O",
        "outputId": "59ae94ee-6e03-4ab4-a957-e33dbc4ec0c2"
      },
      "execution_count": 8,
      "outputs": [
        {
          "output_type": "stream",
          "name": "stdout",
          "text": [
            "Matrix:\n",
            "[[8 2]\n",
            " [5 4]\n",
            " [1 1]]\n",
            "\n",
            "Shape:\t(3, 2)\n",
            "Rank:\t2\n",
            "\n"
          ]
        }
      ]
    },
    {
      "cell_type": "code",
      "source": [
        "H = np.array([1,2,3,4,5])\n",
        "describe_mat(H)\n"
      ],
      "metadata": {
        "colab": {
          "base_uri": "https://localhost:8080/"
        },
        "id": "D09cX4mNb51w",
        "outputId": "8a512ab8-62de-48a3-b651-5d8a69949cd9"
      },
      "execution_count": 9,
      "outputs": [
        {
          "output_type": "stream",
          "name": "stdout",
          "text": [
            "Matrix:\n",
            "[1 2 3 4 5]\n",
            "\n",
            "Shape:\t(5,)\n",
            "Rank:\t1\n",
            "\n"
          ]
        }
      ]
    }
  ]
}