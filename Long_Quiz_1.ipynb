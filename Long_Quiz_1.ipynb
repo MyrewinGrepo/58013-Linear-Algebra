{
  "nbformat": 4,
  "nbformat_minor": 0,
  "metadata": {
    "colab": {
      "provenance": [],
      "authorship_tag": "ABX9TyPF3Fvrw3G7Er0jwL9gvIb1",
      "include_colab_link": true
    },
    "kernelspec": {
      "name": "python3",
      "display_name": "Python 3"
    },
    "language_info": {
      "name": "python"
    }
  },
  "cells": [
    {
      "cell_type": "markdown",
      "metadata": {
        "id": "view-in-github",
        "colab_type": "text"
      },
      "source": [
        "<a href=\"https://colab.research.google.com/github/MyrewinGrepo/58013-Linear-Algebra/blob/main/Long_Quiz_1.ipynb\" target=\"_parent\"><img src=\"https://colab.research.google.com/assets/colab-badge.svg\" alt=\"Open In Colab\"/></a>"
      ]
    },
    {
      "cell_type": "code",
      "execution_count": 50,
      "metadata": {
        "colab": {
          "base_uri": "https://localhost:8080/"
        },
        "id": "ZsqU1kugjNCm",
        "outputId": "c07e105d-0bf4-4f05-a95f-591f3eb65e6d"
      },
      "outputs": [
        {
          "output_type": "stream",
          "name": "stdout",
          "text": [
            "a.\n",
            " [[22 28]\n",
            " [49 64]]\n",
            "b.\n",
            " [[2 4]\n",
            " [6 8]]\n",
            "c.\n",
            " [[ 2  4  6]\n",
            " [ 8 10 12]\n",
            " [14 16 18]]\n"
          ]
        }
      ],
      "source": [
        "import numpy as np\n",
        "\n",
        "A=([[1,2,3,],\n",
        "   [4,5,6]])\n",
        "B=([[1,2],\n",
        "    [3,4],\n",
        "    [5,6]])\n",
        "C=([[1,2,3],\n",
        "    [4,5,6],\n",
        "    [7,8,9]])\n",
        "D=([[1,2],\n",
        "    [3,4]])\n",
        "\n",
        "AB=np.dot(A,B)\n",
        "print(\"a.\\n\",AB)\n",
        "Z=np.add(D,D)\n",
        "print(\"b.\\n\",Z)\n",
        "S=np.array([2])\n",
        "V=S*C\n",
        "print(\"c.\\n\",V)\n"
      ]
    },
    {
      "cell_type": "code",
      "source": [
        "import numpy as np\n",
        "\n",
        "A=([2,7,4])\n",
        "B=([3,9,8])\n",
        "cross_product=np.cross(A,B)\n",
        "print(\"Cross-Produt of A and B:\", cross_product)"
      ],
      "metadata": {
        "colab": {
          "base_uri": "https://localhost:8080/"
        },
        "id": "7WaS0wIHmL01",
        "outputId": "62a98dfc-218e-485d-cef4-7142284759e7"
      },
      "execution_count": 40,
      "outputs": [
        {
          "output_type": "stream",
          "name": "stdout",
          "text": [
            "Cross-Produt of A and B: [20 -4 -3]\n"
          ]
        }
      ]
    }
  ]
}